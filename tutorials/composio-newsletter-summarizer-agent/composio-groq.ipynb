{
 "cells": [
  {
   "cell_type": "markdown",
   "metadata": {},
   "source": [
    "# Creating an AI newsletter assistant with Composio and Groq"
   ]
  },
  {
   "cell_type": "markdown",
   "metadata": {},
   "source": [
    "This notebook demonstrates how to easily connect AI agents to external applications like Gmail, Slack, GitHub and many more using Composio. More specifically, we'll be setting up an assistant that will automatically look for email newsletters in our inbox, summarize and enrich their content with relevant links and contextually relevant information, and then send these summaries to us in a well-formatted and easy to digest email."
   ]
  },
  {
   "cell_type": "markdown",
   "metadata": {},
   "source": [
    "### About Composio\n",
    "\n",
    "Composio is a toolset designed to streamline and optimize the connection and interaction between AI Agents/LLMs and various APIs/services. Composio supports integrations with a variety of popular apps including Google Apps, Github, Slack, and also system tools like Code Interpreter, File Manager and Databases, in just a few lines of code. It also provides pre-defined actions(functions), allowing agents to interact with these integrations.  "
   ]
  },
  {
   "cell_type": "markdown",
   "metadata": {},
   "source": [
    "Let's get started!"
   ]
  },
  {
   "cell_type": "markdown",
   "metadata": {},
   "source": [
    "### Setup"
   ]
  },
  {
   "cell_type": "code",
   "execution_count": null,
   "metadata": {},
   "outputs": [],
   "source": [
    "# Import packages\n",
    "import dotenv\n",
    "from composio_langchain import App, ComposioToolSet\n",
    "from langchain_groq import ChatGroq\n",
    "from datetime import datetime\n",
    "\n",
    "# Load environment variables from .env file\n",
    "dotenv.load_dotenv()"
   ]
  },
  {
   "cell_type": "markdown",
   "metadata": {},
   "source": [
    "We are going to be using Composio's Gmail and Tavily tools in this guide. To use these tools, we first need to create integrations with these apps. This can be done using the command line. You'll need a Tavily API key, which you can get [here](https://app.tavily.com/)  - "
   ]
  },
  {
   "cell_type": "markdown",
   "metadata": {},
   "source": [
    "To create an integration with Gmail, run the command below - "
   ]
  },
  {
   "cell_type": "code",
   "execution_count": null,
   "metadata": {},
   "outputs": [],
   "source": [
    "composio add gmail"
   ]
  },
  {
   "cell_type": "markdown",
   "metadata": {},
   "source": [
    "Similarly, to create an integration with Tavily -"
   ]
  },
  {
   "cell_type": "code",
   "execution_count": null,
   "metadata": {},
   "outputs": [],
   "source": [
    "composio add tavily"
   ]
  },
  {
   "cell_type": "markdown",
   "metadata": {},
   "source": [
    "Make sure you have a Groq API key and set it as an environment variable. You can get your key [here](https://console.groq.com/) for free."
   ]
  },
  {
   "cell_type": "code",
   "execution_count": null,
   "metadata": {},
   "outputs": [],
   "source": [
    "# Initialize the model\n",
    "llm = ChatGroq(model=\"llama3.1-70b-versatile\", stop_sequences=[\"\\n\\n\"])"
   ]
  },
  {
   "cell_type": "markdown",
   "metadata": {},
   "source": [
    "### Initialize Toolset and get tools"
   ]
  },
  {
   "cell_type": "markdown",
   "metadata": {},
   "source": [
    "Now we initialize Composio's toolset which provides all the necessary tools and actions we need. For this guide, we will get the Gmail and Tavily tools from the toolset. The Gmail tools will allow the agent to perform actions like fetching and sending emails. The tavily tool allows the agent to search the web and gather more information about the topics of the newsletter."
   ]
  },
  {
   "cell_type": "code",
   "execution_count": null,
   "metadata": {},
   "outputs": [],
   "source": [
    "# Initialize the ComposioToolSet\n",
    "toolset = ComposioToolSet()\n",
    "\n",
    "# Get the tools from the ComposioToolSet\n",
    "gmail_tools = toolset.get_tools(apps=[App.GMAIL])\n",
    "tavily_search = toolset.get_tool(apps=[App.TAVILY])\n"
   ]
  },
  {
   "cell_type": "markdown",
   "metadata": {},
   "source": [
    "### Define Agents"
   ]
  },
  {
   "cell_type": "markdown",
   "metadata": {},
   "source": [
    "Next, we define our agents. We'll create three agents, where each agent performs a specific task. \n",
    "\n",
    "- <b>email_fetcher_agent</b> - Fetches newsletter emails from Gmail inbox using `gmail_tools`.\n",
    "- <b>summarizer_agent</b> - Summarizes the fetched emails, adds relevant information using the `tavily_search` tool.\n",
    "- <b>email_sender_agent</b> - Sends an email with the summarized content to the specified email address using `gmail_tools`."
   ]
  },
  {
   "cell_type": "code",
   "execution_count": null,
   "metadata": {},
   "outputs": [],
   "source": [
    "from crewai import Agent, Crew, Process, Task\n",
    "\n",
    "# Define the Email Fetcher Agent\n",
    "email_fetcher_agent = Agent(\n",
    "    role=\"Email Fetcher Agent\",\n",
    "    goal=\"Fetch recent newsletter emails from the inbox. Please look for emails with 'newsletter' or 'digest' only for last 7 days. Don't add any other unncessary filters.\",\n",
    "    verbose=True,\n",
    "    memory=True,\n",
    "    backstory=f\"You are an expert in retrieving and organizing email content, with a keen eye for identifying relevant newsletters. Today's date is {datetime.now().strftime('%B %d, %Y')}. You are writing an email to a reader who is interested in the stock market and trading.\",\n",
    "    llm=llm,\n",
    "    allow_delegation=False,\n",
    "    tools=gmail_tools,\n",
    ")\n",
    "\n",
    "# Define the Summarizer Agent\n",
    "summarizer_agent = Agent(\n",
    "    role=\"Summarizer Agent\",\n",
    "    goal=\"Summarize the content of newsletter emails, highlighting key information and trends. \",\n",
    "    verbose=True,\n",
    "    memory=True,\n",
    "    backstory=f\"You are an expert in analyzing and summarizing complex information, with a talent for distilling essential points from various sources. Today's date is {datetime.now().strftime('%B %d, %Y')}. You are writing an email to a reader who is interested in the stock market and trading.\",\n",
    "    llm=llm,\n",
    "    allow_delegation=False,\n",
    "    tools=tavily_search,\n",
    ")\n",
    "\n",
    "# Define the Email Sender Agent\n",
    "email_sender_agent = Agent(\n",
    "    role=\"Email Sender Agent\",\n",
    "    goal=\"Send the summarized newsletter content via email to investtradegame@gmail.com with a professional and engaging format\",\n",
    "    verbose=True,\n",
    "    memory=True,\n",
    "    backstory=f\"You are an expert in composing and sending emails with well-formatted, visually appealing content. You have a knack for creating engaging subject lines and structuring information for easy readability. Today's date is {datetime.now().strftime('%B %d, %Y')}. You are writing an email to a reader who is interested in the stock market and trading.\",\n",
    "    llm=llm,\n",
    "    allow_delegation=False,\n",
    "    tools=gmail_tools,\n",
    ")"
   ]
  },
  {
   "cell_type": "markdown",
   "metadata": {},
   "source": [
    "### Define Tasks"
   ]
  },
  {
   "cell_type": "markdown",
   "metadata": {},
   "source": [
    "Now, we define the tasks that the agents need to perform. These tasks tell the agents the actions they need to perform to achieve a particular goal. Here, we define several tasks that our agents will execute to summarize our newsletters - \n",
    "\n",
    "- <b>fetch_emails_task</b> - This task provides instructions on fetching relevant newsletter emails from the inbox.\n",
    "- <b>summarize_emails_task</b> - This task summarizes the fetched newsletter emails. It uses the `tavily_search` tool to add more information to the summary if necessary.\n",
    "- <b>send_summary_task</b> - This task details how the summaries are formatted and sent to the user."
   ]
  },
  {
   "cell_type": "code",
   "execution_count": null,
   "metadata": {},
   "outputs": [],
   "source": [
    "# Define the task for fetching emails\n",
    "fetch_emails_task = Task(\n",
    "    description=(\n",
    "        \"Fetch the most recent newsletter emails from the inbox. \"\n",
    "        \"Look for emails with subjects containing words like 'newsletter', 'update', or 'digest'. \"\n",
    "        \"Retrieve the content of these emails, including any important links or attachments. \"\n",
    "        \"Pay special attention to newsletters from reputable sources and industry leaders.\"\n",
    "    ),\n",
    "    expected_output=\"A detailed list of recent newsletter emails with their content, including any relevant links or attachments\",\n",
    "    tools=gmail_tools,\n",
    "    agent=email_fetcher_agent,\n",
    ")\n",
    "\n",
    "# Define the task for summarizing emails\n",
    "summarize_emails_task = Task(\n",
    "    description=(\n",
    "        \"Summarize the content of the fetched newsletter emails. \"\n",
    "        \"Create a concise yet comprehensive summary highlighting the key points from each newsletter. \"\n",
    "        \"Organize the summaries in a clear and readable format, grouping related topics if applicable. \"\n",
    "        \"Include any important links, statistics, or data points that add value to the summary. \"\n",
    "        \"Identify and highlight any emerging trends or significant developments across the newsletters.\"\n",
    "        \"Use the tavily_search tool to add to the summary. Use the tavily_search tool to search for relevant keywords in the summary and include the information from the search results if the information is not found in the summary, formatted in a clear and concise manner. \"\n",
    "    ),\n",
    "    expected_output=\"A comprehensive and well-structured summary of the newsletter emails, including key points, trends, and important links\",\n",
    "    tools=tavily_search,\n",
    "\t\tagent=summarizer_agent,\n",
    "    context=[fetch_emails_task],\n",
    ")\n",
    "\n",
    "# Define the task for sending the summary email\n",
    "send_summary_task = Task(\n",
    "    description=(\n",
    "        \"Compose and send an email containing the summarized newsletter content. \"\n",
    "        \"Use the Gmail API to send the email to investtradegame@gmail.com. \"\n",
    "        \"Ensure the email has a clear, engaging subject line and well-formatted content. \"\n",
    "        \"Use the following structure for the email:\\n\\n\"\n",
    "        f\"Subject: Your Weekly News Digest - {datetime.now().strftime('%B %d, %Y')}\\n\\n\"\n",
    "        \"<h1>Weekly News Digest</h1>\\n\\n\"\n",
    "        \"<p>Dear Reader,</p>\\n\\n\"\n",
    "        \"<p>Here's your curated summary of this week's top news items and insights:</p>\\n\\n\"\n",
    "        \"[Insert summarized content here]\\n\\n\"\n",
    "        \"Each main section should be separated by a horizontal rule, like this:\\n\"\n",
    "        \"<hr>\\n\\n\"\n",
    "        \"Structure the content logically, with clear sections for each summarized newsletter or topic area.\\n\"\n",
    "        \"Use appropriate HTML formatting such as <strong> for headlines, \"\n",
    "        \"<ul> and <li> for bullet points, and <br> for line breaks to enhance readability.\\n\\n\"\n",
    "        \"Include relevant links using HTML anchor tags: <a href='URL'>Link Text</a>\\n\\n\"\n",
    "        \"Include a brief introduction at the beginning to set the context and a conclusion at the end \"\n",
    "        \"to summarize the key takeaways and trends observed across the newsletters.\\n\\n\"\n",
    "        \"<footer>\\n\"\n",
    "        \"<p>For more details on these stories, click on the provided links or stay tuned for our next update. \"\n",
    "        \"If you have any questions or feedback, please don't hesitate to reach out.</p>\\n\\n\"\n",
    "        \"<p>Best regards,<br>Your Newsletter Summary Team</p>\\n\"\n",
    "        \"</footer>\\n\\n\"\n",
    "        \"Important: Ensure all HTML tags are properly closed and nested correctly.\"\n",
    "    ),\n",
    "    expected_output=\"Confirmation that the well-formatted, detailed summary email with important links has been sent to investtradegame@gmail.com\",\n",
    "    tools=gmail_tools,\n",
    "    agent=email_sender_agent,\n",
    "    context=[summarize_emails_task],\n",
    ")"
   ]
  },
  {
   "cell_type": "markdown",
   "metadata": {},
   "source": [
    "### Run the agents"
   ]
  },
  {
   "cell_type": "markdown",
   "metadata": {},
   "source": [
    "Finally, we define a crew with all of these agents and tasks, and then kick of the crew to get the results - "
   ]
  },
  {
   "cell_type": "code",
   "execution_count": null,
   "metadata": {},
   "outputs": [],
   "source": [
    "# Define the crew with the agents and tasks\n",
    "crew = Crew(\n",
    "    agents=[email_fetcher_agent, summarizer_agent, email_sender_agent],\n",
    "    tasks=[fetch_emails_task, summarize_emails_task, send_summary_task],\n",
    "    process=Process.sequential,\n",
    ")\n",
    "\n",
    "# Kickoff the process and print the result\n",
    "result = crew.kickoff()\n",
    "print(\"Newsletter Summary Process Completed:\")\n",
    "print(result)"
   ]
  },
  {
   "cell_type": "markdown",
   "metadata": {},
   "source": [
    "### Conclusion"
   ]
  },
  {
   "cell_type": "markdown",
   "metadata": {},
   "source": [
    "In this guide, we successfully used Groq to connect to the LLM and Composio allowed us to easily connect to Gmail and Tavily and use their tools to create an AI agent that can fetch newsletter emails, summarize them and then send the summary as a mail to the user."
   ]
  },
  {
   "cell_type": "markdown",
   "metadata": {},
   "source": [
    "### Connect with us"
   ]
  },
  {
   "cell_type": "markdown",
   "metadata": {},
   "source": [
    "Join the [Composio Discord](https://discord.com/invite/cNruWaAhQk) and [Groq Discord](https://discord.com/invite/groq) servers to discuss your ideas and get support from the community."
   ]
  },
  {
   "cell_type": "markdown",
   "metadata": {},
   "source": [
    "### Learn More\n",
    "\n",
    "Composio: https://composio.dev/\n",
    "Composio Docs: https://docs.composio.dev/introduction/intro/overview"
   ]
  }
 ],
 "metadata": {
  "language_info": {
   "name": "python"
  }
 },
 "nbformat": 4,
 "nbformat_minor": 2
}
